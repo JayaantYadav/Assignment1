{
 "cells": [
  {
   "cell_type": "raw",
   "id": "b56a9e29-d5e8-47ba-bb36-a7b46a5df44c",
   "metadata": {},
   "source": [
    "Write a program to accept percentage from the user and display the grade according to the following criteria:\n",
    "Marks                    Grade\n",
    ">90                       A\n",
    ">80 and <=90              B\n",
    ">=60 and <=80             C\n",
    "below 60                  D"
   ]
  },
  {
   "cell_type": "code",
   "execution_count": 1,
   "id": "22c21ad0-2bff-40c0-9dd6-2ce4a9ad1e6d",
   "metadata": {},
   "outputs": [
    {
     "name": "stdin",
     "output_type": "stream",
     "text": [
      "enter your marks 55\n"
     ]
    },
    {
     "name": "stdout",
     "output_type": "stream",
     "text": [
      "D Grade\n"
     ]
    }
   ],
   "source": [
    "marks = int(input('enter your marks'))\n",
    "if marks > 90:\n",
    "    print('A Grade')\n",
    "elif marks > 80 and marks <= 90:\n",
    "    print('B Grade')\n",
    "elif marks >= 60 and marks <=80:\n",
    "    print('C Grade')\n",
    "else:\n",
    "    print('D Grade')\n",
    "    "
   ]
  },
  {
   "cell_type": "raw",
   "id": "9e777881-fd0d-47d4-82a5-9eebc7c7c6f3",
   "metadata": {},
   "source": [
    "Write a program to accept the cost price of a bike and display the road tax to be paid according to the following criteria:\n",
    "    Tax                             Cost Price(in Rs)\n",
    "    15%                              >100000\n",
    "    10%                              >50000 and <=100000\n",
    "    5%                               < = 50000"
   ]
  },
  {
   "cell_type": "code",
   "execution_count": 2,
   "id": "4406f096-47be-483f-abac-0a548626e108",
   "metadata": {},
   "outputs": [
    {
     "name": "stdin",
     "output_type": "stream",
     "text": [
      "enter the cost price 55555\n"
     ]
    },
    {
     "name": "stdout",
     "output_type": "stream",
     "text": [
      "you will pay 10% road tax\n"
     ]
    }
   ],
   "source": [
    "cost_price = int(input('enter the cost price'))\n",
    "if cost_price > 100000:\n",
    "    print('you will pay 15% road tax')\n",
    "elif cost_price > 50000 and cost_price <= 100000:\n",
    "    print('you will pay 10% road tax')\n",
    "elif cost_price <=50000:\n",
    "    print('your will pay 5% road tax')\n"
   ]
  },
  {
   "cell_type": "raw",
   "id": "ec6e63ca-7853-47b5-a897-c6b935ae1aee",
   "metadata": {},
   "source": [
    "Accept any city from the user and display monuments of that city.\n",
    "City                           Monument\n",
    "Delhi                          Red Fort\n",
    "Agra                           Taj Mahal\n",
    "Jaipur                         Jal Mahal"
   ]
  },
  {
   "cell_type": "code",
   "execution_count": 3,
   "id": "b5c1e5fa-75b8-4ea5-bd41-9bf740de6a20",
   "metadata": {},
   "outputs": [
    {
     "name": "stdin",
     "output_type": "stream",
     "text": [
      "enter a city agra\n"
     ]
    },
    {
     "name": "stdout",
     "output_type": "stream",
     "text": [
      "Taj Mahal\n"
     ]
    }
   ],
   "source": [
    "city = str(input('enter a city'))\n",
    "if city == 'delhi':\n",
    "    print('Red Fort')\n",
    "elif city == 'agra':\n",
    "    print('Taj Mahal')\n",
    "elif city == 'jaipur':\n",
    "    print('Jal Mahal')\n"
   ]
  },
  {
   "cell_type": "markdown",
   "id": "fea178da-7571-4880-95a6-d846abd4fe4b",
   "metadata": {},
   "source": [
    " Check how many times a given number can be divided by 3 before it is less than or equal to 10."
   ]
  },
  {
   "cell_type": "code",
   "execution_count": null,
   "id": "c8a0d260-0788-4e1b-a14b-cc3360b5a953",
   "metadata": {},
   "outputs": [],
   "source": []
  },
  {
   "cell_type": "raw",
   "id": "00c6f23d-1668-41ed-8d92-0f394a463416",
   "metadata": {},
   "source": [
    "Why and When to Use while Loop in Python give a detailed description with example -\n",
    "Python while loop is used to run a block code until a certain condition is met. Here, A while loop evaluates the condition. If the condition evaluates to True , the code inside the while loop is executed.\n",
    " \n",
    " Example - \n",
    " program to display numbers from 1 to 5\n",
    "\n",
    "# initialize the variable\n",
    "i = 1\n",
    "n = 5\n",
    "\n",
    "# while loop from i = 1 to 5\n",
    "while i <= n:\n",
    "    print(i)\n",
    "    i = i + 1"
   ]
  },
  {
   "cell_type": "markdown",
   "id": "6ffd492f-9615-494a-b673-fc6ded0986b0",
   "metadata": {},
   "source": [
    "Use nested while loop to print 3 different pattern."
   ]
  },
  {
   "cell_type": "code",
   "execution_count": 2,
   "id": "acd14573-ecc0-44fb-8d74-8a0c393198ee",
   "metadata": {},
   "outputs": [
    {
     "name": "stdout",
     "output_type": "stream",
     "text": [
      "* * * * * \n",
      "* * * * * \n",
      "* * * * * \n",
      "* * * * * \n",
      "* * * * * \n"
     ]
    }
   ],
   "source": [
    "# Example - 1\n",
    "n = 5\n",
    "for i in range(n):\n",
    "     for j in range(n):\n",
    "        print('*',end=' ')\n",
    "     print()\n",
    "   "
   ]
  },
  {
   "cell_type": "code",
   "execution_count": 3,
   "id": "331c6091-bb12-459c-941d-08422e959f61",
   "metadata": {},
   "outputs": [
    {
     "name": "stdout",
     "output_type": "stream",
     "text": [
      "* \n",
      "* * \n",
      "* * * \n",
      "* * * * \n",
      "* * * * * \n"
     ]
    }
   ],
   "source": [
    "# Example - 2\n",
    "n = 5\n",
    "for i in range(n):\n",
    "     for j in range(i+1):\n",
    "        print('*',end=' ')\n",
    "     print()\n",
    "   "
   ]
  },
  {
   "cell_type": "code",
   "execution_count": 4,
   "id": "98a88ea3-53fc-4a87-8770-254f38166393",
   "metadata": {},
   "outputs": [
    {
     "name": "stdout",
     "output_type": "stream",
     "text": [
      "\n",
      "# \n",
      "# # \n",
      "# # # \n",
      "# # # # \n",
      "# # # # # \n",
      "# # # # # # \n",
      "# # # # # # # \n",
      "# # # # # # # # \n",
      "# # # # # # # # # \n"
     ]
    }
   ],
   "source": [
    "# Example - 3\n",
    "i = 0\n",
    "while i < 10:\n",
    "    j = 0\n",
    "    while j<i:\n",
    "        print('#',end = ' ')\n",
    "        j+=1\n",
    "    print()\n",
    "    i+=1"
   ]
  },
  {
   "cell_type": "markdown",
   "id": "6f6804c1-1b52-4a3b-965e-81aba1220945",
   "metadata": {},
   "source": [
    "Reverse a while loop to display numbers from 10 to 1"
   ]
  },
  {
   "cell_type": "code",
   "execution_count": 5,
   "id": "6ee25126-badf-4555-87db-9f8357e8f2c0",
   "metadata": {},
   "outputs": [
    {
     "name": "stdout",
     "output_type": "stream",
     "text": [
      "10\n",
      "9\n",
      "8\n",
      "7\n",
      "6\n",
      "5\n",
      "4\n",
      "3\n",
      "2\n",
      "1\n"
     ]
    }
   ],
   "source": [
    "i = 10\n",
    "while i > 0:\n",
    "    print(i)\n",
    "    i = i - 1"
   ]
  },
  {
   "cell_type": "code",
   "execution_count": null,
   "id": "2b04c3a9-3f07-4c0d-b2a8-1fd200955801",
   "metadata": {},
   "outputs": [],
   "source": []
  }
 ],
 "metadata": {
  "kernelspec": {
   "display_name": "Python 3 (ipykernel)",
   "language": "python",
   "name": "python3"
  },
  "language_info": {
   "codemirror_mode": {
    "name": "ipython",
    "version": 3
   },
   "file_extension": ".py",
   "mimetype": "text/x-python",
   "name": "python",
   "nbconvert_exporter": "python",
   "pygments_lexer": "ipython3",
   "version": "3.10.8"
  }
 },
 "nbformat": 4,
 "nbformat_minor": 5
}
